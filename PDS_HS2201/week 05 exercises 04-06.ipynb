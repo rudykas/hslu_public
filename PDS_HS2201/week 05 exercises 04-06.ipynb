{
 "cells": [
  {
   "cell_type": "markdown",
   "id": "ebfa9589",
   "metadata": {},
   "source": [
    "## Exercise 4:\n",
    "Write a function 'is_even_num(…)' to print the even numbers from a given\n",
    "list.\n",
    "(green: input, red: output)\n",
    "Test your function with:\n",
    "print(is_even_num([1, 2, 3, 4, 5, 6, 7, 8, 9]))\n",
    "Result (output): [2,4,6,8] "
   ]
  },
  {
   "cell_type": "code",
   "execution_count": 4,
   "id": "4078e525",
   "metadata": {},
   "outputs": [
    {
     "name": "stdout",
     "output_type": "stream",
     "text": [
      "[2, 4, 6, 8]\n"
     ]
    }
   ],
   "source": [
    "def is_even_num(list):\n",
    "    o = []\n",
    "    for e in list:\n",
    "        if e%2 == 0: o.append(e)\n",
    "    return o\n",
    "\n",
    "print(is_even_num([1, 2, 3, 4, 5, 6, 7, 8, 9]))\n"
   ]
  },
  {
   "cell_type": "markdown",
   "id": "79b4788a",
   "metadata": {},
   "source": [
    "## Exercise 5:\n",
    "Write a function 'unique_list(…)' that takes a list and returns a new list with\n",
    "unique elements of the first list – meaning: Make a set from a list!\n",
    "(green: input, red: output)\n",
    "Test your function with:\n",
    "print(unique_list([1,2,3,3,3,3,4,5]))\n",
    "Result (output): [1, 2, 3, 4, 5] "
   ]
  },
  {
   "cell_type": "code",
   "execution_count": 5,
   "id": "c4aaa44d",
   "metadata": {},
   "outputs": [
    {
     "name": "stdout",
     "output_type": "stream",
     "text": [
      "[1, 2, 3, 4, 5, 9, 100]\n"
     ]
    }
   ],
   "source": [
    "def unique_list(list):\n",
    "    o = []\n",
    "    for e in list: \n",
    "        if e not in o: o.append(e)\n",
    "    return o \n",
    "\n",
    "print(unique_list([1,2,3,3,3,3,4,5, 9, 100]))\n"
   ]
  },
  {
   "cell_type": "markdown",
   "id": "eee06bf5",
   "metadata": {},
   "source": [
    "## Exercise 6:\n",
    "Write a simple calculator that can add(…), subtract(…), multiply(…) or\n",
    "divide(…) depending upon the input from the user.\n",
    "The math-operations should be programmed with your one programmed\n",
    "'functions'\n",
    "Test your function with something like:\n",
    "…\n",
    "print(\"Select operation.\")\n",
    "print(\"1.Add\")\n",
    "print(\"2.Subtract\")\n",
    "print(\"3.Multiply\")\n",
    "print(\"4.Divide\")\n",
    "# Take input from the user\n",
    "choice = input(\"Enter choice(1/2/3/4):\")\n",
    "…\n",
    "Show your computer to a colleague or one of the two teachers! "
   ]
  },
  {
   "cell_type": "code",
   "execution_count": 10,
   "id": "67c011d9",
   "metadata": {},
   "outputs": [
    {
     "name": "stdout",
     "output_type": "stream",
     "text": [
      "Select operation.\n",
      "1.Add\n",
      "2.Subtract\n",
      "3.Multiply\n",
      "4.Divide\n",
      "Enter choice(1/2/3/4):3\n",
      "first number: 4040\n",
      "second number: 19191\n",
      "4040 x 19191 = 77531640\n"
     ]
    }
   ],
   "source": [
    "def add(a,b):\n",
    "    return (a+b)\n",
    "\n",
    "def subtract(a,b):\n",
    "    return a-b \n",
    "\n",
    "def multiply(a, b):\n",
    "    return a*b \n",
    "\n",
    "def divide(a,b):\n",
    "    return a/b\n",
    "\n",
    "print(\"Select operation.\")\n",
    "print(\"1.Add\")\n",
    "print(\"2.Subtract\")\n",
    "print(\"3.Multiply\")\n",
    "print(\"4.Divide\")\n",
    "\n",
    "\n",
    "choice = int(input(\"Enter choice(1/2/3/4):\"))\n",
    "\n",
    "a = int(input ('first number: '))\n",
    "b = int(input ('second number: '))\n",
    "\n",
    "if choice == 1: print(a,'+',b,'=', add(a, b))\n",
    "elif choice == 2: print(a,'-',b,'=', subtract(a,b))\n",
    "\n",
    "elif choice == 3: print(a,'x',b,'=', multiply(a,b))\n",
    "\n",
    "elif choice == 4: print(a,'/',b,'=', divide(a,b))\n",
    "\n",
    "else: print('Invalid input')"
   ]
  }
 ],
 "metadata": {
  "kernelspec": {
   "display_name": "Python 3 (ipykernel)",
   "language": "python",
   "name": "python3"
  },
  "language_info": {
   "codemirror_mode": {
    "name": "ipython",
    "version": 3
   },
   "file_extension": ".py",
   "mimetype": "text/x-python",
   "name": "python",
   "nbconvert_exporter": "python",
   "pygments_lexer": "ipython3",
   "version": "3.9.13"
  }
 },
 "nbformat": 4,
 "nbformat_minor": 5
}
