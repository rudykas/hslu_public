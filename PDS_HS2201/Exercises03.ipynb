{
 "cells": [
  {
   "cell_type": "markdown",
   "id": "315a6055",
   "metadata": {},
   "source": [
    "## Exercise 1:\n",
    "Write a Python program to construct the following pattern, using a nested for loop.\n",
    "(red: output)\n",
    "*\n",
    "* *\n",
    "* * *\n",
    "* * * *\n",
    "* * * * *\n",
    "* * * *\n",
    "* * *\n",
    "* *\n",
    "*\n"
   ]
  },
  {
   "cell_type": "code",
   "execution_count": 7,
   "id": "616eebc5",
   "metadata": {},
   "outputs": [
    {
     "name": "stdout",
     "output_type": "stream",
     "text": [
      "*\n",
      "**\n",
      "***\n",
      "****\n",
      "*****\n",
      "******\n",
      "****\n",
      "***\n",
      "**\n",
      "*\n"
     ]
    }
   ],
   "source": [
    "for r in range(10):\n",
    "    if r < 6:\n",
    "        for s in range(r+1):print('*', end ='')\n",
    "        print('')\n",
    "    else: \n",
    "        for s in range(10-r): print('*', end='')\n",
    "        print('')\n",
    "    "
   ]
  },
  {
   "cell_type": "markdown",
   "id": "e933a116",
   "metadata": {},
   "source": [
    "## Exercise 2:\n",
    "Write a Python program that accepts a string and calculates the number of digits and\n",
    "letters. (green: input, red = ouput)\n",
    "Sample Data (input) : Python 3.2\n",
    "Expected Output :\n",
    "Letters 6\n",
    "Digits 2\n",
    "Hints: isdigit(), isalpha() (Book page 188 ff)\n",
    "'.' or ',' or ' ' (=Spaces) and so on are not letters! "
   ]
  },
  {
   "cell_type": "code",
   "execution_count": 19,
   "id": "17134639",
   "metadata": {},
   "outputs": [
    {
     "name": "stdout",
     "output_type": "stream",
     "text": [
      "your input: pythonDD 12,45.5\n",
      "Digits:  5\n",
      "Letters:  8\n"
     ]
    }
   ],
   "source": [
    "inp = input('your input: ')\n",
    "\n",
    "letters = 0\n",
    "digits = 0\n",
    "\n",
    "for ch in inp:\n",
    "    if ch.isdigit(): digits +=1\n",
    "    elif ch.isalpha(): letters +=1\n",
    "\n",
    "print('Digits: ', digits)\n",
    "print('Letters: ', letters)\n",
    "    \n",
    "    "
   ]
  },
  {
   "cell_type": "markdown",
   "id": "0d489753",
   "metadata": {},
   "source": [
    "## Exercise 3:\n",
    "Write a Python program to count the number of even and odd numbers from a series\n",
    "of numbers. (green: sample for 'input', red: output for this sample)\n",
    "Sample numbers :\n",
    "numbers = (11, 12, 13, 14, 15, 16, 17, 18, 19)\n",
    "Expected Output:\n",
    "Number of even numbers : 4\n",
    "Number of odd numbers : 5 "
   ]
  },
  {
   "cell_type": "code",
   "execution_count": 48,
   "id": "74a80d21",
   "metadata": {},
   "outputs": [
    {
     "name": "stdout",
     "output_type": "stream",
     "text": [
      "(11, 13, 15, 15, 15, 17, 17, 19, 10, 13)\n",
      "Number of even numbers : 1 \n",
      "Number of odd numbers : 9\n"
     ]
    }
   ],
   "source": [
    "numbers = (11, 13, 15, 15, 15, 17, 17, 19, 10, 13)\n",
    "print(numbers)\n",
    "type(numbers)\n",
    "even = odd = 0\n",
    "\n",
    "for num in numbers:\n",
    "    if num%2 == 1: odd +=1\n",
    "    elif num%2 == 0: even +=1\n",
    "    else: print('Something wrong, not only int')\n",
    "        \n",
    "print('Number of even numbers :', str(even), '\\nNumber of odd numbers :', str(odd))"
   ]
  },
  {
   "cell_type": "markdown",
   "id": "a5720c24",
   "metadata": {},
   "source": [
    "## Exercise 4:\n",
    "Write a Python program which takes two digits m (row) and n (column) as input and\n",
    "generates a two-dimensional array. The element value in the i-th row and j-th column\n",
    "of the array should be i*j. (green: input, red: output)\n",
    "Note :\n",
    "i = 0, 1, … , m-1\n",
    "j = 0, 1, … , n-1\n",
    "Input Test Data - Rows = 3\n",
    "Input Test Data - Columns = 4\n",
    "Expected Result: [[0, 0, 0, 0], [0, 1, 2, 3], [0, 2, 4, 6]]"
   ]
  },
  {
   "cell_type": "code",
   "execution_count": 59,
   "id": "15e3c5f1",
   "metadata": {},
   "outputs": [
    {
     "name": "stdout",
     "output_type": "stream",
     "text": [
      "how many rows? 5\n",
      "how many columns? 6\n",
      "[[0, 0, 0, 0, 0, 0], [0, 1, 2, 3, 4, 5], [0, 2, 4, 6, 8, 10], [0, 3, 6, 9, 12, 15], [0, 4, 8, 12, 16, 20]]\n"
     ]
    }
   ],
   "source": [
    "\n",
    "m = int(input('how many rows? '))\n",
    "n = int(input('how many columns? '))\n",
    "\n",
    "a = []\n",
    "\n",
    "for i in range(m):\n",
    "    a.append([])\n",
    "    for j in range(n):\n",
    "        a[i].append(j*i)\n",
    "\n",
    "print(a)\n"
   ]
  },
  {
   "cell_type": "markdown",
   "id": "f45f0880",
   "metadata": {},
   "source": [
    "## Exercise 5:\n",
    "Write a Python program to find numbers between 200 and 500 (both included)\n",
    "where each digit of a number is an even number. The numbers obtained should be\n",
    "printed in a comma-separated sequence.\n",
    "Result (red: output):\n",
    "200,202,204,206,208,220,222,224,226,228,240,242,244,246,248,260,262,264,266,26\n",
    "8,280,282,284,286,288,400,402,404,406,408,420,422,424,426,428,440,442,444,446,\n",
    "448,460,462,464,466,468,480,482,484,486,488 "
   ]
  },
  {
   "cell_type": "code",
   "execution_count": 10,
   "id": "a76be9cd",
   "metadata": {},
   "outputs": [
    {
     "name": "stdout",
     "output_type": "stream",
     "text": [
      "200, 202, 204, 206, 208, 220, 222, 224, 226, 228, 240, 242, 244, 246, 248, 260, 262, 264, 266, 268, 280, 282, 284, 286, 288, 400, 402, 404, 406, 408, 420, 422, 424, 426, 428, 440, 442, 444, 446, 448, 460, 462, 464, 466, 468, 480, 482, 484, 486, 488, "
     ]
    }
   ],
   "source": [
    "for n in range(200,500):\n",
    "    units = int(str(n)[2])\n",
    "    tens = int(str(n)[1])\n",
    "    hundreds = int(str(n)[0])\n",
    "    if units%2 == 0 and tens%2==0 and hundreds%2==0:\n",
    "        print(str(n) + ', ',end='')\n",
    "    \n"
   ]
  },
  {
   "cell_type": "markdown",
   "id": "fca5865a",
   "metadata": {},
   "source": [
    "#Exercise 6:\n",
    "Write a Python program to guess a number between 1 to 100.\n",
    "First: The program \"fetches\" a random number from a self-defined function …\n",
    "then… User is prompted to enter a guess. If the user guesses wrong then the user\n",
    "gets a message \"to big\" or \"to small\" on the console prompt and the prompt (user\n",
    "input) appears again until the guess is correct. On a successful guess, user will get a\n",
    "\"Well guessed!\" message, and the program will exit. \n",
    "\n",
    "Extension of Exercise 6:\n",
    "The number of trials should be prompted: \"Well done - you have tried it 4 times!\""
   ]
  },
  {
   "cell_type": "code",
   "execution_count": 16,
   "id": "91157d02",
   "metadata": {},
   "outputs": [
    {
     "name": "stdout",
     "output_type": "stream",
     "text": [
      "Your first guess: 50\n",
      "Too small\n",
      "Your guess: 75\n",
      "Too small\n",
      "Your guess: 87\n",
      "Too small\n",
      "Your guess: 94\n",
      "Too big\n",
      "Your guess: 90\n",
      "Well guessed, you have tried it 4 times.\n"
     ]
    }
   ],
   "source": [
    "import random\n",
    "\n",
    "fetch = random.randint(0,100)\n",
    "guess = int(input('Your first guess: '))\n",
    "i = 0\n",
    "\n",
    "while guess != fetch:\n",
    "    i += 1\n",
    "    if guess > fetch: print('Too big')\n",
    "    elif guess < fetch: print('Too small')\n",
    "    guess = int(input('Your guess: '))\n",
    "\n",
    "print('Well guessed, you have tried it', str(i), 'times.')"
   ]
  },
  {
   "cell_type": "markdown",
   "id": "1131c227",
   "metadata": {},
   "source": [
    "## Exercise 7:\n",
    "Suppose we wish to draw a Christmas tree, and its height (without tree trunk1\n",
    "!)\n",
    "is provided by the user. (green: input)\n",
    "Christmas tree - desired height: 7\n",
    "A Christmas tree that is seven levels tall2\n",
    " would look like (red: output)\n",
    "\n",
    "… whereas a four-level tree would look like\n",
    "Christmas tree - desired height: 4\n",
    "\n",
    "Create a program that asks the user for the height of the Christmas tree\n",
    "(=input) and then draws the tree (output always with a trunk of 2 levels).\n",
    "If the height of the Christmas tree is <5, then the trunk should be 1 x wide,\n",
    "otherwise 3 x => xxx. "
   ]
  },
  {
   "cell_type": "code",
   "execution_count": 43,
   "id": "d4ff3c1b",
   "metadata": {},
   "outputs": [
    {
     "name": "stdout",
     "output_type": "stream",
     "text": [
      "Enter height of tree: 37\n",
      "                                     *                                     \n",
      "                                    ***                                    \n",
      "                                   *****                                   \n",
      "                                  *******                                  \n",
      "                                 *********                                 \n",
      "                                ***********                                \n",
      "                               *************                               \n",
      "                              ***************                              \n",
      "                             *****************                             \n",
      "                            *******************                            \n",
      "                           *********************                           \n",
      "                          ***********************                          \n",
      "                         *************************                         \n",
      "                        ***************************                        \n",
      "                       *****************************                       \n",
      "                      *******************************                      \n",
      "                     *********************************                     \n",
      "                    ***********************************                    \n",
      "                   *************************************                   \n",
      "                  ***************************************                  \n",
      "                 *****************************************                 \n",
      "                *******************************************                \n",
      "               *********************************************               \n",
      "              ***********************************************              \n",
      "             *************************************************             \n",
      "            ***************************************************            \n",
      "           *****************************************************           \n",
      "          *******************************************************          \n",
      "         *********************************************************         \n",
      "        ***********************************************************        \n",
      "       *************************************************************       \n",
      "      ***************************************************************      \n",
      "     *****************************************************************     \n",
      "    *******************************************************************    \n",
      "   *********************************************************************   \n",
      "  ***********************************************************************  \n",
      " ************************************************************************* \n",
      "                                    ***                                    \n",
      "                                    ***\n"
     ]
    }
   ],
   "source": [
    "height = int(input('Enter height of tree: '))\n",
    "\n",
    "for i in range(height):\n",
    "    print(' '*(height-i)+'*'*(2*i+1)+' '*(height-i))\n",
    "\n",
    "if height < 5: print(' '*(height)+'*'+' '*(height)+'\\n'+' '*(height)+'*'+' '*(height))\n",
    "    \n",
    "if height >=5: print(' '*(height-1)+'*'*3+' '*(height-1) + '\\n'+' '*(height-1)+'*'*3)"
   ]
  },
  {
   "cell_type": "code",
   "execution_count": 26,
   "id": "a958044e",
   "metadata": {},
   "outputs": [
    {
     "name": "stdout",
     "output_type": "stream",
     "text": [
      "    ***\n"
     ]
    }
   ],
   "source": [
    "print(' '*3, '*'*3)"
   ]
  }
 ],
 "metadata": {
  "kernelspec": {
   "display_name": "Python 3 (ipykernel)",
   "language": "python",
   "name": "python3"
  },
  "language_info": {
   "codemirror_mode": {
    "name": "ipython",
    "version": 3
   },
   "file_extension": ".py",
   "mimetype": "text/x-python",
   "name": "python",
   "nbconvert_exporter": "python",
   "pygments_lexer": "ipython3",
   "version": "3.9.13"
  }
 },
 "nbformat": 4,
 "nbformat_minor": 5
}
