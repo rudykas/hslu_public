{
 "cells": [
  {
   "cell_type": "markdown",
   "id": "f0949927",
   "metadata": {},
   "source": [
    "## Exercise 1:\n",
    "Obercool!!!\n",
    "   \n",
    "Write a Python program to get a list, sorted in increasing order by the last\n",
    "element in each tuple from a given list of non-empty tuples. Input:\n",
    "[(2, 7 ,3, 5), (1,5, 2), (4, 1,8 ,6, 2, 4), (2, 3), (2, 1), (0,3,5,2,0)]\n",
    "Expected Output:\n",
    "[(0, 3, 5, 2, 0), (2, 1), (1, 5, 2), (2, 3), (4, 1, 8, 6, 2, 4), (2, 7, 3, 5)]"
   ]
  },
  {
   "cell_type": "code",
   "execution_count": 2,
   "id": "cb8415d3",
   "metadata": {},
   "outputs": [
    {
     "data": {
      "text/plain": [
       "[(0, 3, 5, 2, 0), (2, 1), (1, 5, 2), (2, 3), (4, 1, 8, 6, 2, 4), (2, 7, 3, 5)]"
      ]
     },
     "execution_count": 2,
     "metadata": {},
     "output_type": "execute_result"
    }
   ],
   "source": [
    "def last(k):\n",
    "    return k[-1]\n",
    "\n",
    "a = [(2, 7 ,3, 5), (1,5, 2), (4, 1,8 ,6, 2, 4), (2, 3), (2, 1), (0,3,5,2,0)]\n",
    "\n",
    "sorted(a, key = last)"
   ]
  },
  {
   "cell_type": "code",
   "execution_count": 4,
   "id": "aeec4808",
   "metadata": {},
   "outputs": [
    {
     "name": "stdout",
     "output_type": "stream",
     "text": [
      "[(2, 7, 3, 5), (1, 5, 2), (4, 1, 8, 6, 2, 4), (2, 3), (2, 1), (0, 3, 5, 2, 0)]\n"
     ]
    },
    {
     "data": {
      "text/plain": [
       "[(0, 3, 5, 2, 0), (2, 1), (1, 5, 2), (2, 3), (4, 1, 8, 6, 2, 4), (2, 7, 3, 5)]"
      ]
     },
     "execution_count": 4,
     "metadata": {},
     "output_type": "execute_result"
    }
   ],
   "source": [
    "print(a)\n",
    "\n",
    "sorted(a, key = lambda k:k[-1])\n"
   ]
  },
  {
   "cell_type": "markdown",
   "id": "c3dab0bc",
   "metadata": {},
   "source": [
    "## Exercise 2:\n",
    "Write a Python program to get a list, sorted in increasing order by the first\n",
    "element in each tuple from a given list of non-empty tuples Input:\n",
    "[(2, 7 ,3, 5), (1,5, 2), (4, 1,8 ,6, 2, 4), (2, 3), (2, 1), (0,3,5,2,0)]\n",
    "Expected Output:\n",
    "[(0, 3, 5, 2, 0), (1, 5, 2), (2, 7, 3, 5), (2, 3), (2, 1), (4, 1, 8, 6, 2, 4)]\n"
   ]
  },
  {
   "cell_type": "code",
   "execution_count": 6,
   "id": "829e6f5b",
   "metadata": {},
   "outputs": [
    {
     "name": "stdout",
     "output_type": "stream",
     "text": [
      "[(2, 7, 3, 5), (1, 5, 2), (4, 1, 8, 6, 2, 4), (2, 3), (2, 1), (0, 3, 5, 2, 0)]\n"
     ]
    },
    {
     "data": {
      "text/plain": [
       "[(0, 3, 5, 2, 0), (1, 5, 2), (2, 7, 3, 5), (2, 3), (2, 1), (4, 1, 8, 6, 2, 4)]"
      ]
     },
     "execution_count": 6,
     "metadata": {},
     "output_type": "execute_result"
    }
   ],
   "source": [
    "\n",
    "a = [(2, 7 ,3, 5), (1,5, 2), (4, 1,8 ,6, 2, 4), (2, 3), (2, 1), (0,3,5,2,0)]\n",
    "print(a)\n",
    "\n",
    "sorted(a, key = lambda k:k[0])"
   ]
  },
  {
   "cell_type": "markdown",
   "id": "7b32e553",
   "metadata": {},
   "source": [
    "## Exercise 3:\n",
    "Write a Python program to get a list, sorted in increasing order by the\n",
    "secondlast element in each tuple from a given list of non-empty tuples Input:\n",
    "[(2, 7 ,3, 5), (1,5, 2), (4, 1,8 ,6, 2, 4), (2, 3), (2, 1), (0,3,5,2,0)]\n",
    "Expected Output:\n",
    "[(4, 1, 8, 6, 2, 4), (2, 3), (2, 1), (0, 3, 5, 2, 0), (2, 7, 3, 5), (1, 5, 2)]"
   ]
  },
  {
   "cell_type": "code",
   "execution_count": 7,
   "id": "81001ee9",
   "metadata": {},
   "outputs": [
    {
     "name": "stdout",
     "output_type": "stream",
     "text": [
      "[(2, 7, 3, 5), (1, 5, 2), (4, 1, 8, 6, 2, 4), (2, 3), (2, 1), (0, 3, 5, 2, 0)]\n"
     ]
    },
    {
     "data": {
      "text/plain": [
       "[(4, 1, 8, 6, 2, 4), (2, 3), (2, 1), (0, 3, 5, 2, 0), (2, 7, 3, 5), (1, 5, 2)]"
      ]
     },
     "execution_count": 7,
     "metadata": {},
     "output_type": "execute_result"
    }
   ],
   "source": [
    "a = [(2, 7 ,3, 5), (1,5, 2), (4, 1,8 ,6, 2, 4), (2, 3), (2, 1), (0,3,5,2,0)]\n",
    "print(a)\n",
    "\n",
    "sorted(a, key = lambda k:k[-2])"
   ]
  },
  {
   "cell_type": "markdown",
   "id": "e7de2962",
   "metadata": {},
   "source": [
    "## Exercise 4:\n",
    "Write a Python program to get a list, sorted in increasing order by calculating\n",
    "the length of the hypotenuse in each tuple from a given list of non-empty\n",
    "tuples.\n",
    "Example the tuple (2, 1) means: 2 is cathetus and 1 is cathetus => hypo?\n",
    "Input:\n",
    "[(2, 5), (1, 2), (4, 4), (2, 3), (2, 1)]\n",
    "Expected Output:\n",
    "[(1, 2), (2, 1), (2, 3), (2, 5), (4, 4)]"
   ]
  },
  {
   "cell_type": "code",
   "execution_count": 10,
   "id": "fab9abad",
   "metadata": {},
   "outputs": [
    {
     "name": "stdout",
     "output_type": "stream",
     "text": [
      "[(2, 5), (1, 2), (4, 4), (2, 3), (2, 1)]\n"
     ]
    },
    {
     "data": {
      "text/plain": [
       "[(1, 2), (2, 1), (2, 3), (2, 5), (4, 4)]"
      ]
     },
     "execution_count": 10,
     "metadata": {},
     "output_type": "execute_result"
    }
   ],
   "source": [
    "import math \n",
    "a = [(2, 5), (1, 2), (4, 4), (2, 3), (2, 1)]\n",
    "print(a)\n",
    "\n",
    "sorted(a, key = lambda k:math.sqrt(k[0]**2+k[1]**2))"
   ]
  },
  {
   "cell_type": "markdown",
   "id": "e8d2cd1e",
   "metadata": {},
   "source": [
    "## Exercise 5:\n",
    " Write a Python program to get a list, sorted in increasing order by the fact the\n",
    " secondlast element in the tuple is odd or even in each tuple from a given\n",
    " list of non-empty tuples.\n",
    "Input:\n",
    "[(3, 7 ,3, 5), (1,5, 2), (3, 1,8 ,6, 2, 4), (2, 3), (2, 1), (0,3,5,2,0)]\n",
    "Expected Output:\n",
    "[(3, 1, 8, 6, 2, 4), (2, 3), (2, 1), (0, 3, 5, 2, 0), (3, 7, 3, 5), (1, 5, 2)]"
   ]
  },
  {
   "cell_type": "code",
   "execution_count": 14,
   "id": "c2502a02",
   "metadata": {},
   "outputs": [
    {
     "data": {
      "text/plain": [
       "[(3, 1, 8, 6, 8, 4), (2, 3), (2, 1), (0, 3, 5, 2, 0), (3, 7, 3, 5), (1, 5, 2)]"
      ]
     },
     "execution_count": 14,
     "metadata": {},
     "output_type": "execute_result"
    }
   ],
   "source": [
    "a = [(3, 7 ,3, 5), (1,5, 2), (3, 1,8 ,6, 8, 4), (2, 3), (2, 1), (0,3,5,2,0)]\n",
    "\n",
    "\n",
    "sorted(a, key = lambda k: k[-2]%2)"
   ]
  },
  {
   "cell_type": "markdown",
   "id": "290d6b84",
   "metadata": {},
   "source": [
    "## Exercise 6:\n",
    " Write a Python program to change the position of every n-th value with the\n",
    " (n+1)th in a list. A picture of your task:\n",
    " \n",
    "Input:\n",
    "[0,1,2,3,4,5]\n",
    "Expected Output:\n",
    "[1, 0, 3, 2, 5, 4]"
   ]
  },
  {
   "cell_type": "code",
   "execution_count": 36,
   "id": "0b8ada92",
   "metadata": {},
   "outputs": [
    {
     "data": {
      "text/plain": [
       "[1, 0, 3, 2, 5, 4]"
      ]
     },
     "execution_count": 36,
     "metadata": {},
     "output_type": "execute_result"
    }
   ],
   "source": [
    "a = [0,1,2,3,4,5]\n",
    "\n",
    "# a.pop(a[1])\n",
    "# print(a)\n",
    "\n",
    "def nn1(a):\n",
    "    for i in range(0, len(a), 2):\n",
    "        x = a.pop(a[i+1])\n",
    "        a.insert(i, x)\n",
    "        \n",
    "    return (a)\n",
    "\n",
    "nn1(a)\n",
    "        "
   ]
  },
  {
   "cell_type": "code",
   "execution_count": 32,
   "id": "1f7d1257",
   "metadata": {},
   "outputs": [
    {
     "data": {
      "text/plain": [
       "[0, 2, 4, 6, 8]"
      ]
     },
     "execution_count": 32,
     "metadata": {},
     "output_type": "execute_result"
    }
   ],
   "source": [
    "x = [*range(0, 10, 2)]\n",
    "x"
   ]
  },
  {
   "cell_type": "markdown",
   "id": "1382b448",
   "metadata": {},
   "source": [
    "## 7 \n",
    "Write a Python program to\n",
    "remove an empty tuple(s)\n",
    "from a list of tuples.\n",
    "Input:\n",
    "[(), (), ('',), ('a', 'b'), ('a', 'b', 'c'), ('d')]\n",
    "Expected Output:\n",
    "[('',), ('a', 'b'), ('a', 'b', 'c'), 'd']"
   ]
  },
  {
   "cell_type": "code",
   "execution_count": 39,
   "id": "e02c1686",
   "metadata": {},
   "outputs": [
    {
     "data": {
      "text/plain": [
       "[('',), ('a', 'b'), ('a', 'b', 'c'), 'd']"
      ]
     },
     "execution_count": 39,
     "metadata": {},
     "output_type": "execute_result"
    }
   ],
   "source": [
    "a = [(), (), ('',), ('a', 'b'), ('a', 'b', 'c'), ('d')]\n",
    "\n",
    "def empDel(a):\n",
    "    b =[]\n",
    "    for el in a:\n",
    "        if el: b.append(el)\n",
    "    return b\n",
    "\n",
    "empDel(a)"
   ]
  },
  {
   "cell_type": "markdown",
   "id": "43caceac",
   "metadata": {},
   "source": [
    "## Exercise 8:\n",
    "Write a Python program to sort a tuple by its float element. Biggest float first.\n",
    "Input:\n",
    "[('item1', '12.20'), ('item2', '15.10'), ('item3', '24.5')]\n",
    "Expected Output:\n",
    "[('item3', '24.5'), ('item2', '15.10'), ('item1', '12.20')]"
   ]
  },
  {
   "cell_type": "code",
   "execution_count": 47,
   "id": "c16656a4",
   "metadata": {},
   "outputs": [
    {
     "data": {
      "text/plain": [
       "[('item3', '24.5'), ('item2', '15.10'), ('item1', '12.20')]"
      ]
     },
     "execution_count": 47,
     "metadata": {},
     "output_type": "execute_result"
    }
   ],
   "source": [
    "a = [('item1', '12.20'), ('item2', '15.10'), ('item3', '24.5')]\n",
    "\n",
    "sorted(a, key = lambda k: float(k[-1]), reverse = True)\n"
   ]
  },
  {
   "cell_type": "code",
   "execution_count": 44,
   "id": "ee334c37",
   "metadata": {},
   "outputs": [
    {
     "name": "stdout",
     "output_type": "stream",
     "text": [
      "Help on built-in function sorted in module builtins:\n",
      "\n",
      "sorted(iterable, /, *, key=None, reverse=False)\n",
      "    Return a new list containing all items from the iterable in ascending order.\n",
      "    \n",
      "    A custom key function can be supplied to customize the sort order, and the\n",
      "    reverse flag can be set to request the result in descending order.\n",
      "\n"
     ]
    }
   ],
   "source": [
    "help(sorted)"
   ]
  },
  {
   "cell_type": "markdown",
   "id": "e1694d1a",
   "metadata": {},
   "source": [
    "## 9 \n",
    "Write a Python program to print all unique values in a dictionary as a set\n",
    "Input: a list of dicts with different value's\n",
    "[{\"V\" :   }, {\"V\" : \"S002\"}, {\"VI\" : \"S001\"}, {\"VI\" : \"S005\"}, {\"VII\" : \"S005\"}, {\"V\" :\n",
    "Expected Output: (all unique values) {'S005', 'S002', 'S007', 'S001', 'S009'}"
   ]
  },
  {
   "cell_type": "code",
   "execution_count": 10,
   "id": "186de814",
   "metadata": {},
   "outputs": [
    {
     "data": {
      "text/plain": [
       "{'S001', 'S002', 'S005', 'S007'}"
      ]
     },
     "execution_count": 10,
     "metadata": {},
     "output_type": "execute_result"
    }
   ],
   "source": [
    "a = [{\"V\" : 'S001'}, {\"V\" : \"S002\"}, {\"VI\" : \"S007\"}, {\"VI\" : \"S005\"}, {\"VII\" : \"S005\"}]\n",
    "\n",
    "# list(a[0].values())\n",
    "\n",
    "\n",
    "b = []\n",
    "\n",
    "for el in a:\n",
    "    b.append(list(el.values()))\n",
    "\n",
    "c = set()\n",
    "for el in b:\n",
    "    c.add(el[0])\n",
    "\n",
    "c"
   ]
  },
  {
   "cell_type": "markdown",
   "id": "e6edc614",
   "metadata": {},
   "source": [
    "## Exercise 10:\n",
    "Write a Python program to find maximum and the minimum value in a set\n",
    "Input:\n",
    "{ 5, 10, 3, 15, 2, 20 }\n",
    "Expected Output:\n",
    "MinVal = 2 MaxVal = 20"
   ]
  },
  {
   "cell_type": "code",
   "execution_count": 14,
   "id": "19a4a053",
   "metadata": {},
   "outputs": [
    {
     "name": "stdout",
     "output_type": "stream",
     "text": [
      "MaxVal: 20\n",
      "MinVal: 2\n"
     ]
    }
   ],
   "source": [
    "s = { 5, 10, 3, 15, 2, 20 }\n",
    "\n",
    "def maxval(set):\n",
    "    m = set.pop()\n",
    "    while set: \n",
    "        p = set.pop()\n",
    "        if m < p: m = p\n",
    "    return m\n",
    "print('MaxVal:',maxval(s))\n",
    "\n",
    "s = { 5, 10, 3, 15, 2, 20 }\n",
    "\n",
    "def minval(set):\n",
    "    m = set.pop()\n",
    "    while set: \n",
    "        p = set.pop()\n",
    "        if m > p: m = p\n",
    "    return m\n",
    "print('MinVal:',minval(s))"
   ]
  }
 ],
 "metadata": {
  "kernelspec": {
   "display_name": "Python 3 (ipykernel)",
   "language": "python",
   "name": "python3"
  },
  "language_info": {
   "codemirror_mode": {
    "name": "ipython",
    "version": 3
   },
   "file_extension": ".py",
   "mimetype": "text/x-python",
   "name": "python",
   "nbconvert_exporter": "python",
   "pygments_lexer": "ipython3",
   "version": "3.9.13"
  }
 },
 "nbformat": 4,
 "nbformat_minor": 5
}
